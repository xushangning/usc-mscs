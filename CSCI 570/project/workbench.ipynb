{
 "cells": [
  {
   "cell_type": "code",
   "execution_count": null,
   "id": "139b3e08-fd41-45d4-85eb-f7a1773c7094",
   "metadata": {},
   "outputs": [],
   "source": [
    "import random\n",
    "from pathlib import Path\n",
    "from math import ceil, log2, sqrt\n",
    "import pprint\n",
    "\n",
    "import numpy as np\n",
    "import matplotlib.pyplot as plt\n",
    "\n",
    "# https://piazza.com/class/ksmlgkord5752e?cid=2325\n",
    "MAX_LENGTH = 1024\n",
    "# Because the output must contain the first and last 50 letters of the actual\n",
    "# alignment.\n",
    "MIN_LENGTH = 50\n",
    "\n",
    "INPUT_DIR = Path('input')\n",
    "BASE_STR_LENGTHS = 4, 5, 6, 7\n",
    "BASES = 'ACTG' * 2, 'TACG' * 2\n",
    "N_DATA_POINTS = 20\n",
    "N_REPEATS = 3"
   ]
  },
  {
   "cell_type": "code",
   "execution_count": null,
   "id": "6ff30f8c-6104-47e2-8153-adf9fb59ccc9",
   "metadata": {},
   "outputs": [],
   "source": [
    "# Choose string generation parameters.\n",
    "def choose_str_generation_parameters(l: float) -> tuple[int, int, int]:\n",
    "    \"\"\"\n",
    "    :param l string length to approximate\n",
    "    :return (base string length, number of duplicate operations, generated string length)\n",
    "    \"\"\"\n",
    "    fractional_powers = tuple(log2(l / m) for m in BASE_STR_LENGTHS)\n",
    "    powers = tuple(ceil(x) for x in fractional_powers)\n",
    "    i = np.argmin(tuple(x - y for x, y in zip(powers, fractional_powers)))\n",
    "    return BASE_STR_LENGTHS[i], powers[i], BASE_STR_LENGTHS[i] * 2 ** powers[i]\n",
    "\n",
    "\n",
    "# Special handling for the shortest strings such that they are *both* at least\n",
    "# MIN_LENGTH long.\n",
    "str_gen_parameters = [(choose_str_generation_parameters(MIN_LENGTH),) * 2]\n",
    "target_problem_sizes = np.geomspace(MIN_LENGTH * 2, MAX_LENGTH * 2, num=N_DATA_POINTS)\n",
    "for size in target_problem_sizes[1:]:\n",
    "    t = choose_str_generation_parameters(size / 2)\n",
    "    str_gen_parameters.append((t, choose_str_generation_parameters(size - t[2])))\n",
    "# Print its repr for caching in the cell below.\n",
    "pprint.pprint(str_gen_parameters)"
   ]
  },
  {
   "cell_type": "code",
   "execution_count": null,
   "id": "ba797950-3d57-4d11-8700-b25d698bcfa8",
   "metadata": {},
   "outputs": [],
   "source": [
    "str_gen_parameters = [((7, 3, 56), (7, 3, 56)),\n",
    " ((4, 4, 64), (7, 3, 56)),\n",
    " ((5, 4, 80), (4, 4, 64)),\n",
    " ((6, 4, 96), (5, 4, 80)),\n",
    " ((6, 4, 96), (6, 4, 96)),\n",
    " ((7, 4, 112), (7, 4, 112)),\n",
    " ((5, 5, 160), (7, 4, 112)),\n",
    " ((5, 5, 160), (5, 5, 160)),\n",
    " ((6, 5, 192), (6, 5, 192)),\n",
    " ((7, 5, 224), (7, 5, 224)),\n",
    " ((4, 6, 256), (4, 6, 256)),\n",
    " ((5, 6, 320), (4, 6, 256)),\n",
    " ((6, 6, 384), (5, 6, 320)),\n",
    " ((7, 6, 448), (6, 6, 384)),\n",
    " ((4, 7, 512), (7, 6, 448)),\n",
    " ((5, 7, 640), (7, 6, 448)),\n",
    " ((5, 7, 640), (5, 7, 640)),\n",
    " ((6, 7, 768), (6, 7, 768)),\n",
    " ((7, 7, 896), (7, 7, 896)),\n",
    " ((4, 8, 1024), (4, 8, 1024))]"
   ]
  },
  {
   "cell_type": "code",
   "execution_count": null,
   "id": "5cb8f38f-3268-4af8-bdc2-d0b1e79ebfab",
   "metadata": {},
   "outputs": [],
   "source": [
    "# Generate test cases.\n",
    "random.seed()\n",
    "INPUT_DIR.mkdir(exist_ok=True)\n",
    "for i, pair in enumerate(str_gen_parameters):\n",
    "    with (INPUT_DIR / f'{i}.txt').open('w') as f:\n",
    "        for base, (l, n_operations, _) in zip(BASES, pair):\n",
    "            print(base[:l], file=f)\n",
    "            for _ in range(n_operations):\n",
    "                print(random.randrange(l), file=f)\n",
    "                l *= 2"
   ]
  },
  {
   "cell_type": "code",
   "execution_count": null,
   "id": "ee01e99a-3644-47c3-908c-ac91840acd5d",
   "metadata": {},
   "outputs": [],
   "source": [
    "# Run the test cases.\n",
    "for i in range(N_DATA_POINTS):\n",
    "    print(i)\n",
    "    f = INPUT_DIR / f'{i}.txt'\n",
    "    !python3 efficient.py {f}"
   ]
  },
  {
   "cell_type": "code",
   "execution_count": null,
   "id": "832bc7e9-7fd4-497e-946e-c5d66d859e7b",
   "metadata": {},
   "outputs": [],
   "source": [
    "# Run the test cases and gather output.\n",
    "ALGORITHM_VERSIONS = ('basic', 'efficient')\n",
    "OUTPUT_DIR = Path('output')\n",
    "OUTPUT_DIR.mkdir(exist_ok=True)\n",
    "OUTPUT_FILE_NAME = 'output.txt'\n",
    "for v in ALGORITHM_VERSIONS:\n",
    "    output_dir = OUTPUT_DIR / v\n",
    "    output_dir.mkdir(exist_ok=True)\n",
    "    for i in range(N_DATA_POINTS):\n",
    "        print(i)\n",
    "        f = INPUT_DIR / f'{i}.txt'\n",
    "        !python3 {v}.py {f}         # Warm up.\n",
    "        \n",
    "        for j in range(N_REPEATS):\n",
    "            output_file = output_dir / f'{i}-{j}.txt'\n",
    "            !python3 {v}.py {f}\n",
    "            !mv {OUTPUT_FILE_NAME} {output_file}"
   ]
  },
  {
   "cell_type": "code",
   "execution_count": null,
   "id": "a204725a-24f7-46e9-923d-98bf784eb9a3",
   "metadata": {},
   "outputs": [],
   "source": [
    "subplots = {\n",
    "    'cpu': plt.subplots(),\n",
    "    'mem': plt.subplots()\n",
    "}\n",
    "\n",
    "x = tuple(t1[2] + t2[2] for t1, t2 in str_gen_parameters)\n",
    "for v in ALGORITHM_VERSIONS:\n",
    "    y_cpu = []\n",
    "    y_mem = []\n",
    "    for i in range(N_DATA_POINTS):\n",
    "        lines = tuple(tuple((OUTPUT_DIR / v / f'{i}-{j}.txt').open('r')) for j in range(N_REPEATS))\n",
    "        y_cpu.append(sum(float(lines[j][3]) for j in range(N_REPEATS)) / N_REPEATS)\n",
    "        y_mem.append(sum(float(lines[j][4]) for j in range(N_REPEATS)) / N_REPEATS)\n",
    "    subplots['cpu'][1].plot(x, y_cpu, '-o', label=v)\n",
    "    subplots['mem'][1].plot(x, y_mem, '-o', label=v)\n",
    "\n",
    "for sp in subplots.values():\n",
    "    sp[1].set_xscale('log')\n",
    "    sp[1].set_yscale('log')\n",
    "    sp[1].set_xlabel('Problem Size')\n",
    "    sp[1].legend()\n",
    "subplots['cpu'][1].set_ylabel('CPU Time/s')\n",
    "subplots['mem'][1].set_ylabel('Memory/KB')"
   ]
  },
  {
   "cell_type": "code",
   "execution_count": null,
   "id": "a4f94e27-f8b9-4976-be46-dbdcd3b20bd2",
   "metadata": {},
   "outputs": [],
   "source": [
    "subplots['cpu'][0].savefig('CPUPlot.png')\n",
    "subplots['mem'][0].savefig('MemoryPlot.png')"
   ]
  }
 ],
 "metadata": {
  "kernelspec": {
   "display_name": "Python 3 (ipykernel)",
   "language": "python",
   "name": "python3"
  },
  "language_info": {
   "codemirror_mode": {
    "name": "ipython",
    "version": 3
   },
   "file_extension": ".py",
   "mimetype": "text/x-python",
   "name": "python",
   "nbconvert_exporter": "python",
   "pygments_lexer": "ipython3",
   "version": "3.9.9"
  }
 },
 "nbformat": 4,
 "nbformat_minor": 5
}
