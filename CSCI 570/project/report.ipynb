{
 "cells": [
  {
   "cell_type": "code",
   "execution_count": null,
   "id": "139b3e08-fd41-45d4-85eb-f7a1773c7094",
   "metadata": {},
   "outputs": [],
   "source": [
    "import random\n",
    "from pathlib import Path\n",
    "from math import ceil, log2\n",
    "\n",
    "# https://piazza.com/class/ksmlgkord5752e?cid=2325\n",
    "MAX_LENGTH = 1024\n",
    "# Because the output must contain the first and last 50 letters of the actual\n",
    "# alignment.\n",
    "MIN_LENGTH = 50\n",
    "\n",
    "INPUT_DIR = Path('input')\n",
    "BASES = 'ACTG', 'TACG'"
   ]
  },
  {
   "cell_type": "code",
   "execution_count": null,
   "id": "5cb8f38f-3268-4af8-bdc2-d0b1e79ebfab",
   "metadata": {},
   "outputs": [],
   "source": [
    "# Generate test cases.\n",
    "random.seed()\n",
    "INPUT_DIR.mkdir(exist_ok=True)\n",
    "i = 0\n",
    "for log_length in range(ceil(log2(MIN_LENGTH)), ceil(log2(MAX_LENGTH)) + 1):\n",
    "    # Hard-coded number of test cases per string length\n",
    "    for _ in range(4):\n",
    "        with (INPUT_DIR / f'{i}.txt').open('w') as f:\n",
    "            for j in range(2):\n",
    "                print(BASES[j], file=f)\n",
    "\n",
    "                l = 4\n",
    "                for _ in range(2, log_length):\n",
    "                    print(random.randrange(l), file=f)\n",
    "                    l *= 2\n",
    "        i += 1"
   ]
  },
  {
   "cell_type": "code",
   "execution_count": null,
   "id": "ee01e99a-3644-47c3-908c-ac91840acd5d",
   "metadata": {},
   "outputs": [],
   "source": [
    "# Run the test cases. Only the first 10 test cases are run currently, as the DC\n",
    "# version runs really slow.\n",
    "N_TEST_CASES = 10\n",
    "\n",
    "for i in range(N_TEST_CASES):\n",
    "    print(i)\n",
    "    f = INPUT_DIR / f'{i}.txt'\n",
    "    !python3 efficient.py {f}"
   ]
  }
 ],
 "metadata": {
  "kernelspec": {
   "display_name": "Python 3 (ipykernel)",
   "language": "python",
   "name": "python3"
  },
  "language_info": {
   "codemirror_mode": {
    "name": "ipython",
    "version": 3
   },
   "file_extension": ".py",
   "mimetype": "text/x-python",
   "name": "python",
   "nbconvert_exporter": "python",
   "pygments_lexer": "ipython3",
   "version": "3.9.9"
  }
 },
 "nbformat": 4,
 "nbformat_minor": 5
}
