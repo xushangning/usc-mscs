{
 "cells": [
  {
   "cell_type": "code",
   "execution_count": null,
   "id": "139b3e08-fd41-45d4-85eb-f7a1773c7094",
   "metadata": {},
   "outputs": [],
   "source": [
    "import random\n",
    "from pathlib import Path\n",
    "from math import ceil, log2, sqrt\n",
    "import numpy as np\n",
    "\n",
    "# https://piazza.com/class/ksmlgkord5752e?cid=2325\n",
    "MAX_LENGTH = 1024\n",
    "# Because the output must contain the first and last 50 letters of the actual\n",
    "# alignment.\n",
    "MIN_LENGTH = 50\n",
    "\n",
    "INPUT_DIR = Path('input')\n",
    "BASE_STR_LENGTHS = 4, 5, 6, 7\n",
    "BASES = 'ACTG' * 2, 'TACG' * 2\n",
    "N_DATA_POINTS = 20"
   ]
  },
  {
   "cell_type": "code",
   "execution_count": null,
   "id": "6ff30f8c-6104-47e2-8153-adf9fb59ccc9",
   "metadata": {},
   "outputs": [],
   "source": [
    "# Choose string generation parameters.\n",
    "def choose_str_generation_parameters(l: float) -> tuple[int, int, int]:\n",
    "    \"\"\"\n",
    "    :param l string length to approximate\n",
    "    :return (base string length, number of duplicate operations, generated string length)\n",
    "    \"\"\"\n",
    "    fractional_powers = tuple(log2(l / m) for m in BASE_STR_LENGTHS)\n",
    "    powers = tuple(ceil(x) for x in fractional_powers)\n",
    "    i = np.argmin(tuple(x - y for x, y in zip(powers, fractional_powers)))\n",
    "    return BASE_STR_LENGTHS[i], powers[i], BASE_STR_LENGTHS[i] * 2 ** powers[i]\n",
    "\n",
    "\n",
    "# Special handling for the shortest strings such that they are *both* at least\n",
    "# MIN_LENGTH long.\n",
    "str_gen_parameters = [(choose_str_generation_parameters(MIN_LENGTH),) * 2]\n",
    "target_problem_sizes = np.geomspace(MIN_LENGTH * MIN_LENGTH, MAX_LENGTH * MAX_LENGTH, num=N_DATA_POINTS)\n",
    "for size in target_problem_sizes[1:]:\n",
    "    t = choose_str_generation_parameters(sqrt(size))\n",
    "    str_gen_parameters.append((t, choose_str_generation_parameters(size / t[2])))\n",
    "# Print its repr for caching in the cell below.\n",
    "print(repr(str_gen_parameters))"
   ]
  },
  {
   "cell_type": "code",
   "execution_count": null,
   "id": "ba797950-3d57-4d11-8700-b25d698bcfa8",
   "metadata": {},
   "outputs": [],
   "source": [
    "str_gen_parameters = [\n",
    "    ((7, 3, 56), (7, 3, 56)),\n",
    "    ((4, 4, 64), (7, 3, 56)),\n",
    "    ((5, 4, 80), (4, 4, 64)),\n",
    "    ((6, 4, 96), (5, 4, 80)),\n",
    "    ((6, 4, 96), (6, 4, 96)),\n",
    "    ((7, 4, 112), (7, 4, 112)),\n",
    "    ((5, 5, 160), (7, 4, 112)),\n",
    "    ((5, 5, 160), (5, 5, 160)),\n",
    "    ((6, 5, 192), (6, 5, 192)),\n",
    "    ((7, 5, 224), (7, 5, 224)),\n",
    "    ((4, 6, 256), (4, 6, 256)),\n",
    "    ((5, 6, 320), (5, 6, 320)),\n",
    "    ((6, 6, 384), (5, 6, 320)),\n",
    "    ((7, 6, 448), (6, 6, 384)),\n",
    "    ((4, 7, 512), (7, 6, 448)),\n",
    "    ((5, 7, 640), (4, 7, 512)),\n",
    "    ((5, 7, 640), (5, 7, 640)),\n",
    "    ((6, 7, 768), (6, 7, 768)),\n",
    "    ((7, 7, 896), (7, 7, 896)),\n",
    "    ((4, 8, 1024), (4, 8, 1024))\n",
    "]"
   ]
  },
  {
   "cell_type": "code",
   "execution_count": null,
   "id": "5cb8f38f-3268-4af8-bdc2-d0b1e79ebfab",
   "metadata": {},
   "outputs": [],
   "source": [
    "# Generate test cases.\n",
    "random.seed()\n",
    "INPUT_DIR.mkdir(exist_ok=True)\n",
    "for i, pair in enumerate(str_gen_parameters):\n",
    "    with (INPUT_DIR / f'{i}.txt').open('w') as f:\n",
    "        for base, (l, n_operations, _) in zip(BASES, pair):\n",
    "            print(base[:l], file=f)\n",
    "            for _ in range(n_operations):\n",
    "                print(random.randrange(l), file=f)\n",
    "                l *= 2"
   ]
  },
  {
   "cell_type": "code",
   "execution_count": null,
   "id": "ee01e99a-3644-47c3-908c-ac91840acd5d",
   "metadata": {},
   "outputs": [],
   "source": [
    "# Run the test cases.\n",
    "for i in range(N_DATA_POINTS):\n",
    "    print(i)\n",
    "    f = INPUT_DIR / f'{i}.txt'\n",
    "    !python3 efficient.py {f}"
   ]
  }
 ],
 "metadata": {
  "kernelspec": {
   "display_name": "Python 3 (ipykernel)",
   "language": "python",
   "name": "python3"
  },
  "language_info": {
   "codemirror_mode": {
    "name": "ipython",
    "version": 3
   },
   "file_extension": ".py",
   "mimetype": "text/x-python",
   "name": "python",
   "nbconvert_exporter": "python",
   "pygments_lexer": "ipython3",
   "version": "3.9.9"
  }
 },
 "nbformat": 4,
 "nbformat_minor": 5
}
